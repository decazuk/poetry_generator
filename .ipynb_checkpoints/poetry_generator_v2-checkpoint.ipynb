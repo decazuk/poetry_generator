{
 "cells": [
  {
   "cell_type": "markdown",
   "metadata": {},
   "source": [
    "## Poetry Generation v2\n",
    "In this project, I'll use new method for getting batches and try to get a better result.\n",
    "\n",
    "### Get the Data\n",
    "I will use full poetry dataset this point, not only the five words poetries. Poetries are seperated by '\\n'"
   ]
  },
  {
   "cell_type": "code",
   "execution_count": null,
   "metadata": {
    "collapsed": true
   },
   "outputs": [],
   "source": []
  }
 ],
 "metadata": {},
 "nbformat": 4,
 "nbformat_minor": 2
}
